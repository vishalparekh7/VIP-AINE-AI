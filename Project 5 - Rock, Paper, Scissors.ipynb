{
 "cells": [
  {
   "cell_type": "markdown",
   "id": "regular-palace",
   "metadata": {},
   "source": [
    "## __Virtual Internship Program by AINE AI__\n",
    "\n"
   ]
  },
  {
   "cell_type": "markdown",
   "id": "isolated-separate",
   "metadata": {},
   "source": [
    "### __Project: Developing ‘Rock, Paper and Scissors’ Game using Python Programming__"
   ]
  },
  {
   "cell_type": "markdown",
   "id": "armed-gates",
   "metadata": {},
   "source": [
    "#### __About the project: The project leverages the basic concepts of Python programming such as variables, data types, loop and conditional statements to develop the game of Rock, Papers and Scissors__."
   ]
  },
  {
   "cell_type": "markdown",
   "id": "crucial-silence",
   "metadata": {},
   "source": [
    "#####    -: __Vishal Parekh__"
   ]
  },
  {
   "cell_type": "code",
   "execution_count": 1,
   "id": "comparative-asian",
   "metadata": {},
   "outputs": [],
   "source": [
    "#import necessary library\n",
    "from random import randint"
   ]
  },
  {
   "cell_type": "code",
   "execution_count": 2,
   "id": "handled-genre",
   "metadata": {},
   "outputs": [],
   "source": [
    "#create a list of play options\n",
    "t = [\"Rock\", \"Paper\", \"Scissors\"]"
   ]
  },
  {
   "cell_type": "code",
   "execution_count": 3,
   "id": "blind-aggregate",
   "metadata": {},
   "outputs": [],
   "source": [
    "#assign a random play to the computer\n",
    "computer = t[randint(0,2)]"
   ]
  },
  {
   "cell_type": "code",
   "execution_count": 4,
   "id": "racial-header",
   "metadata": {},
   "outputs": [],
   "source": [
    "#set player to False\n",
    "player = False"
   ]
  },
  {
   "cell_type": "code",
   "execution_count": 5,
   "id": "after-surprise",
   "metadata": {},
   "outputs": [
    {
     "name": "stdin",
     "output_type": "stream",
     "text": [
      "Rock, Paper, Scissors? Rock\n"
     ]
    },
    {
     "name": "stdout",
     "output_type": "stream",
     "text": [
      "Tie!\n"
     ]
    },
    {
     "name": "stdin",
     "output_type": "stream",
     "text": [
      "Rock, Paper, Scissors? Paper\n"
     ]
    },
    {
     "name": "stdout",
     "output_type": "stream",
     "text": [
      "Tie!\n"
     ]
    },
    {
     "name": "stdin",
     "output_type": "stream",
     "text": [
      "Rock, Paper, Scissors? Scissors\n"
     ]
    },
    {
     "name": "stdout",
     "output_type": "stream",
     "text": [
      "You lose! Rock smashes Scissors\n"
     ]
    },
    {
     "name": "stdin",
     "output_type": "stream",
     "text": [
      "Rock, Paper, Scissors? Rock\n"
     ]
    },
    {
     "name": "stdout",
     "output_type": "stream",
     "text": [
      "You win! Rock smashes Scissors\n"
     ]
    },
    {
     "name": "stdin",
     "output_type": "stream",
     "text": [
      "Rock, Paper, Scissors? bye\n"
     ]
    },
    {
     "name": "stdout",
     "output_type": "stream",
     "text": [
      "That's not a valid input. Bbye!\n"
     ]
    }
   ],
   "source": [
    "while player == False:\n",
    "#set player to True\n",
    "    player = input(\"Rock, Paper, Scissors?\")\n",
    "    if player == computer:\n",
    "        print(\"Tie!\")\n",
    "    elif player == \"Rock\":\n",
    "        if computer == \"Paper\":\n",
    "            print(\"You lose!\", computer, \"covers\", player)\n",
    "        else:\n",
    "            print(\"You win!\", player, \"smashes\", computer)\n",
    "    elif player == \"Paper\":\n",
    "        if computer == \"Scissors\":\n",
    "            print(\"You lose!\", computer, \"cut\", player)\n",
    "        else:\n",
    "            print(\"You win!\", player, \"covers\", computer)\n",
    "    elif player == \"Scissors\":\n",
    "        if computer == \"Rock\":\n",
    "            print(\"You lose!\", computer, \"smashes\", player)\n",
    "        else:\n",
    "            print(\"You win!\", player, \"cut\", computer)\n",
    "    else:\n",
    "        print(\"That's not a valid input. Bbye!\")\n",
    "        break\n",
    "    #player was set to True, but we want it to be False so the loop continues\n",
    "    player = False\n",
    "    computer = t[randint(0,2)]"
   ]
  },
  {
   "cell_type": "code",
   "execution_count": null,
   "id": "geological-cooper",
   "metadata": {},
   "outputs": [],
   "source": []
  }
 ],
 "metadata": {
  "kernelspec": {
   "display_name": "Python 3",
   "language": "python",
   "name": "python3"
  },
  "language_info": {
   "codemirror_mode": {
    "name": "ipython",
    "version": 3
   },
   "file_extension": ".py",
   "mimetype": "text/x-python",
   "name": "python",
   "nbconvert_exporter": "python",
   "pygments_lexer": "ipython3",
   "version": "3.8.0"
  }
 },
 "nbformat": 4,
 "nbformat_minor": 5
}
